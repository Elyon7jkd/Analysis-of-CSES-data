{
 "cells": [
  {
   "cell_type": "code",
   "execution_count": null,
   "id": "ea279910",
   "metadata": {
    "id": "ea279910"
   },
   "outputs": [],
   "source": [
    "import h5py\n",
    "import math\n",
    "import numpy as np\n",
    "import scipy \n",
    "import matplotlib.pyplot as plt\n",
    "from scipy import signal\n",
    "import pandas as pd\n",
    "import matplotlib.dates as mdates\n",
    "import scipy.sparse as sparse\n",
    "import datetime as dt\n",
    "from datetime import datetime\n",
    "from datetime import date\n",
    "import matplotlib.ticker as ticker \n",
    "from mpl_toolkits.axes_grid1 import make_axes_locatable\n",
    "from datetime import date, timedelta\n",
    "import matplotlib.ticker as plticker\n",
    "from matplotlib.colors import LogNorm,Normalize\n"
   ]
  },
  {
   "cell_type": "code",
   "execution_count": null,
   "id": "loozr2omp0Vw",
   "metadata": {
    "id": "loozr2omp0Vw"
   },
   "outputs": [],
   "source": [
    "\n",
    "dir_name=\"\"\n",
    "file_name= dir_name+\"C:/CSES/CSES_01_EFD_3_L02_A1_028281_20180807_070512_20180807_074400_000.h5\"\n",
    "\n",
    "OrbitNumber=file_name.split(\"_\")[6];\n",
    "with h5py.File(file_name, \"r\") as f:     \n",
    "    UTC_TIME=f[\"UTC_TIME\"][()][:,0]  \n",
    "    GEO_LAT=f[\"GEO_LAT\"][()][:,0]  \n",
    "    GEO_LON=f[\"GEO_LON\"][()][:,0]\n",
    "    ALT=f[\"ALTITUDE\"][()][:,0]\n",
    "    Workmode=f[\"WORKMODE\"][()][:,0] \n",
    "    MAG_LAT=f[\"MAG_LAT\"][()][:,0] \n",
    "    MAG_LON=f[\"MAG_LON\"][()][:,0]  \n",
    "    VERSE_TIME=f[\"VERSE_TIME\"][()][:,0]                                \n",
    "    A131_W=f[\"A131_W\"][()] \n",
    "    A132_W=f[\"A132_W\"][()] \n",
    "    A133_W=f[\"A133_W\"][()] \n",
    "    A131_P=f[\"A131_P\"][()]\n",
    "    A132_P=f[\"A132_P\"][()]\n",
    "    A133_P=f[\"A133_P\"][()]"
   ]
  },
  {
   "cell_type": "code",
   "execution_count": null,
   "id": "oHbziQC4pw24",
   "metadata": {
    "id": "oHbziQC4pw24"
   },
   "outputs": [],
   "source": [
    "f = h5py.File(dir_name+file_name, 'r')\n",
    "columns = list(f.keys())\n",
    " \n",
    "df = pd.DataFrame([]) \n",
    "for column in columns:\n",
    "    try:\n",
    "        data = np.array(f[column])\n",
    "        if data.shape[1] == 1: \n",
    "            df[column] = data.flatten()\n",
    "        elif column.endswith('_P' ) :\n",
    "            mat = sparse.coo_matrix(data, shape=data.shape)\n",
    "            df[column] = mat.toarray().tolist()\n",
    "        elif column ==\"A131_W\": \n",
    "            selected_data=np.array(data[0:1077,:])\n",
    "            mat = sparse.coo_matrix(selected_data, shape=selected_data.shape)\n",
    "            df[column] = mat.toarray().tolist()\n",
    "        elif column ==\"A132_W\": \n",
    "            selected_data=np.array(data[0:1077,:])\n",
    "            mat = sparse.coo_matrix(selected_data, shape=selected_data.shape)\n",
    "            df[column] = mat.toarray().tolist()\n",
    "        elif column ==\"A133_W\": \n",
    "            selected_data=np.array(data[0:1077,:])\n",
    "            mat = sparse.coo_matrix(selected_data, shape=selected_data.shape)\n",
    "            df[column] = mat.toarray().tolist()\n",
    "        else:\n",
    "            print(column+ ' skipped')\n",
    "    except Exception as e:\n",
    "        print(column+ ' parse error: ' + str(e)) \n",
    "S_burst = df[df.WORKMODE == 2]\n",
    "df['DATE_TIME'] = pd.to_datetime(df.UTC_TIME, format='%Y%m%d%H%M%S%f')"
   ]
  },
  {
   "cell_type": "code",
   "execution_count": null,
   "id": "CWXhJLcfbFWn",
   "metadata": {
    "colab": {
     "base_uri": "https://localhost:8080/",
     "height": 485
    },
    "id": "CWXhJLcfbFWn",
    "outputId": "aa7ba6d2-f977-477a-fb66-c3ceb0283099",
    "scrolled": true
   },
   "outputs": [],
   "source": [
    "import sys\n",
    "sys.path.insert(0,\"C:/CSES/\")\n",
    "from efd import EFD\n",
    "efd = EFD()\n",
    "vlf = efd.read(\"C:/CSES/\", \"CSES_01_EFD_3_L02_A1_028281_20180807_070512_20180807_074400_000.h5\")\n",
    "\n"
   ]
  },
  {
   "cell_type": "code",
   "execution_count": null,
   "id": "KVYifOLCG222",
   "metadata": {
    "id": "KVYifOLCG222"
   },
   "outputs": [],
   "source": [
    "vlf.vlf_signal[['UTC_TIME']]=df[['UTC_TIME']]\n",
    "vlf.vlf_signal[['A131_P']]=df[['A131_P']]\n",
    "vlf.vlf_signal[['A132_P']]=df[['A132_P']]\n",
    "vlf.vlf_signal[['A133_P']]=df[['A133_P']]\n",
    "vlf.vlf_signal[['A131_W']]=df[['A131_W']]\n",
    "vlf.vlf_signal[['A132_W']]=df[['A132_W']]\n",
    "vlf.vlf_signal[['A133_W']]=df[['A133_W']]\n",
    "vlf.vlf_signal[['VERSE_TIME']]=df[['VERSE_TIME']]\n",
    "\n",
    "df_burst = vlf.vlf_signal[vlf.vlf_signal.WORKMODE == 2]\n",
    "vlf.vlf_signal['Frequency'] = vlf.vlf_signal.apply(lambda M: M[0])\n",
    "DATE=vlf.vlf_signal.DateTime.map(lambda x: x.strftime('%Y-%m-%d'))\n",
    "TIME=vlf.vlf_signal.DateTime.map(lambda x: x.strftime('%H-%M-%S'))"
   ]
  },
  {
   "cell_type": "code",
   "execution_count": null,
   "id": "NTi6HQnUg_Tn",
   "metadata": {
    "colab": {
     "base_uri": "https://localhost:8080/"
    },
    "id": "NTi6HQnUg_Tn",
    "outputId": "ff1440e4-f7e2-406e-9eaa-4bcc48589610"
   },
   "outputs": [],
   "source": [
    "sampling_frequency=51200\n",
    "n_lines=1024\n",
    "FFT_samples=2048\n",
    "frequency_bin=(sampling_frequency/2)/n_lines\n",
    "time_bin_survey=(vlf.vlf_signal.VERSE_TIME[191]-vlf.vlf_signal.VERSE_TIME[190])/10**3\n",
    "time_bin_burst=time_bin_survey/50\n",
    "Bw=51200*2/1024\n",
    "print(\"sampling_frequency [Hz]=\",sampling_frequency)\n",
    "print(\"num_lines=\",n_lines)\n",
    "print(\"FFT_samples=\", FFT_samples)\n",
    "print(\"frequency_bin [Hz]=\",frequency_bin)\n",
    "print(\"time_bin_survey [sec]=\",time_bin_survey)\n",
    "print(\"time_bin_burst [sec]=\",time_bin_burst)\n",
    "print(\"frequency range tot=0-1024 kHz\")\n",
    "print(\"frequency range selected=0-25 kHz\")\n",
    "print(\"Bandwidth=\" ,Bw)"
   ]
  },
  {
   "cell_type": "code",
   "execution_count": null,
   "id": "te8_SFu_rSiQ",
   "metadata": {
    "colab": {
     "base_uri": "https://localhost:8080/"
    },
    "id": "te8_SFu_rSiQ",
    "outputId": "a5b7a41b-5053-483f-f022-6881887881f6"
   },
   "outputs": [],
   "source": [
    "start={}\n",
    "stop={}\n",
    "idx=0  \n",
    "lastWorkmode=1\n",
    "for i in range (0,vlf.vlf_signal.WORKMODE.shape[0]):\n",
    "    if vlf.vlf_signal.WORKMODE[i]==2 and lastWorkmode!=2: \n",
    "        start[idx]=i  \n",
    "    if vlf.vlf_signal.WORKMODE[i]==1 and lastWorkmode==2: \n",
    "        stop[idx]=i-1 \n",
    "        idx=idx+1  \n",
    "    lastWorkmode=vlf.vlf_signal.WORKMODE[i]  \n",
    "minStart=start[0]   \n",
    "maxStop=stop[idx-1]    \n",
    "print(f\"STARTposition={start} - STOPposition={stop}\")\n",
    "\n",
    "print(\"Workmode.shape=\",vlf.vlf_signal.WORKMODE.shape)\n",
    "print(\"start.len=\", len(start))\n"
   ]
  },
  {
   "cell_type": "code",
   "execution_count": null,
   "id": "0hlCRZ0HK9XF",
   "metadata": {
    "id": "0hlCRZ0HK9XF"
   },
   "outputs": [],
   "source": [
    "def power(array):\n",
    "  powerX=180+20*np.log10(array)\n",
    "  return powerX"
   ]
  },
  {
   "cell_type": "code",
   "execution_count": null,
   "id": "xO4K_WjYLI_9",
   "metadata": {
    "id": "xO4K_WjYLI_9"
   },
   "outputs": [],
   "source": [
    "powerX=power(A131_P)\n",
    "powerY=power(A132_P)\n",
    "powerZ=power(A133_P)"
   ]
  },
  {
   "cell_type": "code",
   "execution_count": null,
   "id": "rRvAaB-MJXs7",
   "metadata": {
    "id": "rRvAaB-MJXs7"
   },
   "outputs": [],
   "source": [
    "def inter(array):\n",
    "  data=np.asarray([array[i]  for i in range (0,len(array)) if  isinstance(array[i], np.ndarray)])\n",
    "  data_t = np.empty(shape=(data.shape[0], data.shape[1]))\n",
    "  for i in range (0, data.shape[0]):\n",
    "    meanX_b = np.mean(data[i]) \n",
    "    data_t[i] = data[i] - meanX_b\n",
    "\n",
    "  zero=np.zeros_like(data_t)\n",
    "  s=np.array([[i,j]for i,j in zip(data_t,zero)]).reshape(2*data_t.shape[0],data_t.shape[1])\n",
    "  outX_b2=s.ravel().reshape(-1,2048)\n",
    "\n",
    "  M_b = outX_b2.shape[1]  \n",
    "  hamming_b = signal.get_window(\"hamming\", M_b) \n",
    "\n",
    "  FFT=np.array([scipy.fft.fft(outX_b2[i]*hamming_b) for i in range(0,outX_b2.shape[0])])\n",
    "  inter= np.abs(FFT.T[:1024])**2 \n",
    "  inter2X = 200+20*np.log10(inter/Bw, where=0<inter, out=np.nan*inter)\n",
    "\n",
    "  return inter2X"
   ]
  },
  {
   "cell_type": "code",
   "execution_count": null,
   "id": "rZ3zdAKRLUET",
   "metadata": {
    "id": "rZ3zdAKRLUET"
   },
   "outputs": [],
   "source": [
    "inter2X=inter(vlf.vlf_signal.X)\n",
    "inter2Y=inter(vlf.vlf_signal.Signal)\n",
    "inter2Z=inter(vlf.vlf_signal.Z)"
   ]
  },
  {
   "cell_type": "code",
   "execution_count": null,
   "id": "zNKsYXxRKDpS",
   "metadata": {
    "id": "zNKsYXxRKDpS"
   },
   "outputs": [],
   "source": [
    "def amplitude(array):\n",
    "  data=np.asarray([array[i]  for i in range (0,len(array)) if  isinstance(array[i], np.ndarray)])\n",
    "  data_t = np.empty(shape=(data.shape[0], data.shape[1]))\n",
    "  for i in range (0, data.shape[0]):\n",
    "    meanX_b = np.mean(data[i]) \n",
    "    data_t[i] = data[i] - meanX_b\n",
    "  outX=data_t.ravel().reshape(-1,2048)\n",
    "\n",
    "  M_b = outX.shape[1]  \n",
    "  hamming_b = signal.get_window(\"hamming\", M_b) \n",
    "\n",
    "  FFT_low=np.array([scipy.fft.fft(outX[i]*hamming_b) for i in range(0,outX.shape[0])])\n",
    "  out= np.abs(FFT_low.T[:1024])**2\n",
    "  outX_b=200+20*np.log10(out/Bw)\n",
    "  return outX_b\n",
    "\n",
    "\n"
   ]
  },
  {
   "cell_type": "code",
   "execution_count": null,
   "id": "HJ98B-p0Lp9i",
   "metadata": {
    "id": "HJ98B-p0Lp9i"
   },
   "outputs": [],
   "source": [
    "outX_b=amplitude(vlf.vlf_signal.X)\n",
    "outY_b=amplitude(vlf.vlf_signal.Signal)\n",
    "outZ_b=amplitude(vlf.vlf_signal.Z)"
   ]
  },
  {
   "cell_type": "code",
   "execution_count": null,
   "id": "di6DohDwMBWe",
   "metadata": {
    "id": "di6DohDwMBWe"
   },
   "outputs": [],
   "source": [
    "def minMax(array):\n",
    "  survey_min=round(np.nanmin(array),2)\n",
    "  survey_max=round(np.nanmax(array),2)\n",
    "  \n",
    "  return survey_min,survey_max"
   ]
  },
  {
   "cell_type": "code",
   "execution_count": null,
   "id": "aB9uvKzzMpO3",
   "metadata": {
    "colab": {
     "base_uri": "https://localhost:8080/"
    },
    "id": "aB9uvKzzMpO3",
    "outputId": "2dc1e97f-5d93-4bc9-b344-c74679430307"
   },
   "outputs": [],
   "source": [
    "survey_minX,survey_maxX=minMax(powerX)\n",
    "survey_minY,survey_maxY=minMax(powerY)\n",
    "survey_minZ,survey_maxZ=minMax(powerZ)\n",
    "burst_high_minX,burst_high_maxX=minMax(inter2X)\n",
    "burst_high_minY,burst_high_maxY=minMax(inter2Y)\n",
    "burst_high_minZ,burst_high_maxZ=minMax(inter2Z)\n",
    "burst_low_minX,burst_low_maxX=minMax(outX_b)\n",
    "burst_low_minY,burst_low_maxY=minMax(outY_b)\n",
    "burst_low_minZ,burst_low_maxZ=minMax(outZ_b)\n",
    "\n",
    "print(\"survey_minX=\", survey_minX)\n",
    "print(\"survey_maxX=\", survey_maxX)\n",
    "print(\"burst_high_minX=\", burst_high_minX)\n",
    "print(\"burst_high_maxX=\", burst_high_maxX)\n",
    "print(\"burst_low_minX=\", burst_low_minX)\n",
    "print(\"burst_low_maxX=\", burst_low_maxX)\n",
    "print(\"survey_minY=\", survey_minY)\n",
    "print(\"survey_maxY=\", survey_maxY)\n",
    "print(\"burst_high_minY=\", burst_high_minY)\n",
    "print(\"burst_high_maxY=\", burst_high_maxY)\n",
    "print(\"burst_low_minY=\", burst_low_minY)\n",
    "print(\"burst_low_maxY=\", burst_low_maxY)\n",
    "print(\"survey_minZ=\", survey_minZ)\n",
    "print(\"survey_maxZ=\", survey_maxZ)\n",
    "print(\"burst_high_minZ=\", burst_high_minZ)\n",
    "print(\"burst_high_maxZ=\", burst_high_maxZ)\n",
    "print(\"burst_low_minZ=\", burst_low_minZ)\n",
    "print(\"burst_low_maxZ=\", burst_low_maxZ)"
   ]
  },
  {
   "cell_type": "code",
   "execution_count": null,
   "id": "gI1akqSiPOVe",
   "metadata": {
    "id": "gI1akqSiPOVe"
   },
   "outputs": [],
   "source": [
    "def extPlot(survey_minX,survey_maxX,burst_high_minX,burst_high_maxX,burst_low_minX,burst_low_maxX):\n",
    "  minimo=[survey_minX,burst_high_minX,burst_low_minX]\n",
    "  massimo=[survey_maxX,burst_high_maxX,burst_low_maxX]\n",
    "  min_3plots=np.min(minimo)\n",
    "  max_3plots=np.max(massimo)\n",
    "\n",
    "  m=[survey_minX,burst_low_minX]\n",
    "  mas=[survey_maxX,burst_low_maxX]\n",
    "  min_2plots=np.min(m)\n",
    "  max_2plots=np.max(mas)\n",
    "  return min_3plots,max_3plots,min_2plots,max_2plots\n"
   ]
  },
  {
   "cell_type": "code",
   "execution_count": null,
   "id": "V_Ui0A8RQdTb",
   "metadata": {
    "id": "V_Ui0A8RQdTb"
   },
   "outputs": [],
   "source": [
    "min_3plotsX,max_3plotsX,min_2plotsX,max_2plotsX=extPlot(survey_minX,survey_maxX,burst_high_minX,burst_high_maxX,burst_low_minX,burst_low_maxX)\n",
    "min_3plotsY,max_3plotsY,min_2plotsY,max_2plotsY=extPlot(survey_minY,survey_maxY,burst_high_minY,burst_high_maxY,burst_low_minY,burst_low_maxY)\n",
    "min_3plotsZ,max_3plotsZ,min_2plotsZ,max_2plotsZ=extPlot(survey_minZ,survey_maxZ,burst_high_minZ,burst_high_maxZ,burst_low_minZ,burst_low_maxZ)"
   ]
  },
  {
   "cell_type": "code",
   "execution_count": null,
   "id": "xG-rHOJlQSwG",
   "metadata": {
    "id": "xG-rHOJlQSwG"
   },
   "outputs": [],
   "source": [
    "\n",
    "minimo_tot=[survey_minX,burst_high_minX,burst_low_minX,survey_minY,burst_high_minY,burst_low_minY,survey_minZ,burst_high_minZ,burst_low_minZ]\n",
    "massimo_tot=[survey_maxX,burst_high_maxX,burst_low_maxX,survey_maxY,burst_high_maxY,burst_low_maxY,survey_maxZ,burst_high_maxZ,burst_low_maxZ]\n",
    "min_9plots=np.min(minimo_tot)\n",
    "max_9plots=np.max(massimo_tot)\n",
    "\n",
    "\n",
    "minimo_tot6=[survey_minX,burst_high_minX,survey_minZ,burst_high_minZ,survey_minY,burst_high_minY]\n",
    "massimo_tot6=[survey_maxX,burst_high_maxX,survey_maxZ,burst_high_maxZ,survey_maxY,burst_high_maxY]\n",
    "min_6plots=np.min(minimo_tot6)\n",
    "max_6plots=np.max(massimo_tot6)"
   ]
  },
  {
   "cell_type": "code",
   "execution_count": null,
   "id": "nIXTNx2RPXQi",
   "metadata": {
    "colab": {
     "base_uri": "https://localhost:8080/"
    },
    "id": "nIXTNx2RPXQi",
    "outputId": "ccb54837-b1c0-4e59-e2d8-ca7a90d31660"
   },
   "outputs": [],
   "source": [
    "print('val min_3plotX=', min_3plotsX)\n",
    "print('val max_3plotX=',max_3plotsX)\n",
    "print('val min_3plotY=', min_3plotsY)\n",
    "print('val max_3plotY=',max_3plotsY)\n",
    "print('val min_3plotZ=', min_3plotsZ)\n",
    "print('val max_3plotZ=',max_3plotsZ)\n",
    "print('val min_9plot=', min_9plots)\n",
    "print('val max_9plot=',max_9plots)\n",
    "print('val min_6plot=', min_6plots)\n",
    "print('val max_6plot=',max_6plots)"
   ]
  },
  {
   "cell_type": "code",
   "execution_count": null,
   "id": "-BotQensPy3y",
   "metadata": {
    "id": "-BotQensPy3y"
   },
   "outputs": [],
   "source": [
    "def threePlot(EFD,AmpP,AmpW,min_3plotsX,max_3plotsX,survey_minX,survey_maxX,burst_low_minX,burst_low_maxX,burst_high_minX,burst_high_maxX,powerX,outX_b,inter2X,output):\n",
    "  fig, axs = plt.subplots(3,1, sharex=True,figsize=(20,10) )\n",
    "\n",
    "  axs[0].set_title(f\"Orbit={OrbitNumber}\" + f\"-Date={DATE[0]}\" + f\"-Survey mode EFD VLF {EFD}-{AmpP} power spectrum [mV/Hz^0.5]-\"+ f\"time_bin_survey={time_bin_survey}\" \n",
    "             + f\"-vminTot= {min_3plotsX}\" + f\"-vmaxTot= {max_3plotsX}\"+ f\"-vminSurvey= {survey_minX}\" + f\"-vmaxSurvey= {survey_maxX}\")\n",
    "\n",
    "\n",
    "  axs[1].set_title(f\"Orbit={OrbitNumber}\" + f\"-Date={DATE[0]}\" + f\"-Burst mode low resolution EFD VLF {EFD} [mV/m]- FFT {AmpW} wave form \"+f\"- time_bin_burst_low={time_bin_survey}\" \n",
    "             + f\"-vminTot= {min_3plotsX}\" + f\"-vmaxTot= {max_3plotsX}\"+\n",
    "             f\"-vminBurst_low resolution= {burst_low_minX}\" + f\"-vmaxBurst_low resolution= {burst_low_maxX}\" )\n",
    "\n",
    "\n",
    "  axs[2].set_title(f\"Orbit={OrbitNumber}\" + f\"-Date={DATE[0]}\" + f\"-Burst mode high resolution EFD VLF {EFD} [mV/m]- from FFT {AmpW} wave form\"  \n",
    "            +f\"- time_bin_burst_high={time_bin_burst}\"  + f\"-vminTot= {min_3plotsX}\" + f\"-vmaxTot= {max_3plotsX}\"\n",
    "             + f\"-vminBurst_high resolution= {burst_high_minX}\" + f\"-vmaxBurst_high resolution= {burst_high_maxX}\" )\n",
    "\n",
    "\n",
    "  x_lims = list(map( lambda x:x,vlf.vlf_signal.DateTime))\n",
    "  x_lims = mdates.date2num(x_lims)\n",
    "  ext=[x_lims.min(),x_lims.max(),0,1024]\n",
    "  im = [0]*3\n",
    "  im[0] = axs[0].imshow(np.rot90(powerX),interpolation='None',cmap='jet',aspect='auto', extent=ext,vmin=min_3plotsX,vmax=max_3plotsX)\n",
    "\n",
    "  im[1] = axs[1].imshow(np.fliplr(np.rot90(outX_b,2)),interpolation='None',cmap='jet',aspect='auto', extent=ext,vmin=min_3plotsX,vmax=max_3plotsX) \n",
    "\n",
    "  im[2] = axs[2].imshow(np.fliplr(np.rot90(inter2X,2)),interpolation='None',cmap='jet',aspect='auto', extent=ext,vmin=min_3plotsX,vmax=max_3plotsX) \n",
    "\n",
    "\n",
    "  axs[2].set_xlabel('DATE_TIME')  \n",
    "  axs[0].set_ylabel('f [kHz]')\n",
    "  axs[1].set_ylabel('f [kHz]')\n",
    "  axs[2].set_ylabel('f [kHz]')\n",
    "\n",
    "  plt.ylim(0,1024)\n",
    "\n",
    "\n",
    "\n",
    "  x1=vlf.vlf_signal.iloc[12]['DateTime']\n",
    "  x2=vlf.vlf_signal.iloc[189]['DateTime']\n",
    "  y=np.arange(0,1025)\n",
    "  axs[1].fill_betweenx(y,x1,x2,facecolor=\"white\")\n",
    "\n",
    "  x1=vlf.vlf_signal.iloc[657]['DateTime']\n",
    "  x2=vlf.vlf_signal.iloc[1076]['DateTime']\n",
    "  y=np.arange(0,1025)\n",
    "  axs[1].fill_betweenx(y,x1,x2,facecolor=\"white\")\n",
    "\n",
    "  x1=vlf.vlf_signal.iloc[0]['DateTime']\n",
    "  x2=vlf.vlf_signal.iloc[10]['DateTime']\n",
    "  y=np.arange(0,1025)\n",
    "  axs[1].fill_betweenx(y,x1,x2,facecolor=\"white\")\n",
    "\n",
    "  x1=vlf.vlf_signal.iloc[12]['DateTime']\n",
    "  x2=vlf.vlf_signal.iloc[189]['DateTime']\n",
    "  y=np.arange(0,1025)\n",
    "  axs[2].fill_betweenx(y,x1,x2,facecolor=\"white\")\n",
    "\n",
    "  x1=vlf.vlf_signal.iloc[657]['DateTime']\n",
    "  x2=vlf.vlf_signal.iloc[1076]['DateTime']\n",
    "  y=np.arange(0,1025)\n",
    "  axs[2].fill_betweenx(y,x1,x2,facecolor=\"white\")\n",
    "\n",
    "  x1=vlf.vlf_signal.iloc[0]['DateTime']\n",
    "  x2=vlf.vlf_signal.iloc[10]['DateTime']\n",
    "  y=np.arange(0,1025)\n",
    "  axs[2].fill_betweenx(y,x1,x2,facecolor=\"white\")\n",
    "\n",
    "  x1=vlf.vlf_signal.iloc[12]['DateTime']\n",
    "  x2=vlf.vlf_signal.iloc[189]['DateTime']\n",
    "  y=np.arange(0,1025)\n",
    "  axs[0].fill_betweenx(y,x1,x2,facecolor=\"white\")\n",
    "\n",
    "  x1=vlf.vlf_signal.iloc[657]['DateTime']\n",
    "  x2=vlf.vlf_signal.iloc[1076]['DateTime']\n",
    "  y=np.arange(0,1025)\n",
    "  axs[0].fill_betweenx(y,x1,x2,facecolor=\"white\")\n",
    "\n",
    "  x1=vlf.vlf_signal.iloc[0]['DateTime']\n",
    "  x2=vlf.vlf_signal.iloc[10]['DateTime']\n",
    "  y=np.arange(0,1025)\n",
    "  axs[0].fill_betweenx(y,x1,x2,facecolor=\"white\")\n",
    "\n",
    "\n",
    "\n",
    "  divider = make_axes_locatable(axs[0])\n",
    "  cax = divider.append_axes('right',size=\"1%\")\n",
    "  plt.colorbar(im[0], cax=cax, orientation='vertical',label='dB')\n",
    "  divider = make_axes_locatable(axs[1])\n",
    "  cax = divider.append_axes('right',size=\"1%\")\n",
    "  plt.colorbar(im[1], cax=cax, orientation='vertical',label='dB')\n",
    "  divider = make_axes_locatable(axs[2])\n",
    "  cax = divider.append_axes('right',size=\"1%\")\n",
    "  plt.colorbar(im[2], cax=cax, orientation='vertical',label='dB')\n",
    "\n",
    "\n",
    "  axs[2].xaxis.set_ticks_position(\"bottom\")\n",
    "  axs[2].xaxis.set_label_position(\"bottom\")\n",
    "  axs[2].xaxis_date()\n",
    "  axs[2].xaxis.set_major_formatter(mdates.DateFormatter('%H:%M')) \n",
    "  axs[2].xaxis.set_major_locator(mdates.MinuteLocator(interval=1))\n",
    "  vlf.vlf_signal.plot( x='DateTime', y='Frequency', ax=axs[2], alpha=0)\n",
    "\n",
    "  ax0=axs[2].twiny()\n",
    "  ax1=axs[2].twiny()\n",
    "\n",
    "\n",
    "  ax0.set_xlabel('GEO_LAT')\n",
    "  ax0.xaxis.set_ticks_position(\"bottom\")\n",
    "  ax0.xaxis.set_label_position(\"bottom\")\n",
    "  ax0.spines[\"bottom\"].set_position((\"axes\", -0.3))\n",
    "  ax0.xaxis.grid(False)\n",
    "  ax0.set_xlim(GEO_LAT.min(), GEO_LAT.max())\n",
    "  ax0.xaxis.set_major_locator(ticker.FixedLocator(np.arange(GEO_LAT.min(), GEO_LAT.max(), 5)))\n",
    "  vlf.vlf_signal.plot(x='GEO_LAT', y='Frequency', ax=ax0,alpha=0)\n",
    "\n",
    "  ax1.set_xlabel('MAG_LAT')\n",
    "  ax1.xaxis.set_ticks_position(\"bottom\")\n",
    "  ax1.xaxis.set_label_position(\"bottom\")\n",
    "  ax1.spines[\"bottom\"].set_position((\"axes\", -0.6))\n",
    "  ax1.xaxis.grid(False)\n",
    "  ax1.set_xlim(MAG_LAT.min(), MAG_LAT.max())\n",
    "  ax1.xaxis.set_major_locator(ticker.FixedLocator(np.arange(MAG_LAT.min(), MAG_LAT.max(), 0.5)))\n",
    "  vlf.vlf_signal.plot( x='MAG_LAT', y='Frequency', ax=ax1, alpha=0)\n",
    "\n",
    "\n",
    "  plt.savefig(f'/content/drive/MyDrive/Colab Notebooks/Plot/{output}.png',bbox_inches = 'tight')\n",
    "\n",
    "\n",
    "  plt.show()"
   ]
  },
  {
   "cell_type": "code",
   "execution_count": null,
   "id": "kT7oJbweYVyv",
   "metadata": {
    "colab": {
     "base_uri": "https://localhost:8080/",
     "height": 550
    },
    "id": "kT7oJbweYVyv",
    "outputId": "b8d01a25-b659-40ba-a343-0d87bd5fbca9"
   },
   "outputs": [],
   "source": [
    "threePlot('EFDX','A131P','A131W',min_3plotsX,max_3plotsX,survey_minX,survey_maxX,burst_low_minX,burst_low_maxX,burst_high_minX,burst_high_maxX,powerX,outX_b,inter2X,'3plotX')"
   ]
  },
  {
   "cell_type": "code",
   "execution_count": null,
   "id": "ARamjUEcZMib",
   "metadata": {
    "colab": {
     "base_uri": "https://localhost:8080/",
     "height": 545
    },
    "id": "ARamjUEcZMib",
    "outputId": "d26e965e-d0f5-4a10-9da5-198a022b9308"
   },
   "outputs": [],
   "source": [
    "threePlot('EFDY','A132P','A132W',min_3plotsY,max_3plotsY,survey_minY,survey_maxY,burst_low_minY,burst_low_maxY,burst_high_minY,burst_high_maxY,powerY,outY_b,inter2Y,'3plotY')"
   ]
  },
  {
   "cell_type": "code",
   "execution_count": null,
   "id": "fJJfy0fgZjlr",
   "metadata": {
    "colab": {
     "base_uri": "https://localhost:8080/",
     "height": 545
    },
    "id": "fJJfy0fgZjlr",
    "outputId": "e16cd891-653f-40ae-9ef9-fbde196aa276"
   },
   "outputs": [],
   "source": [
    "threePlot('EFDZ','A133P','A133W',min_3plotsZ,max_3plotsZ,survey_minZ,survey_maxZ,burst_low_minZ,burst_low_maxZ,burst_high_minZ,burst_high_maxZ,powerZ,outZ_b,inter2Z,'3plotZ')"
   ]
  },
  {
   "cell_type": "code",
   "execution_count": null,
   "id": "UZzRC0IaPdT7",
   "metadata": {
    "colab": {
     "base_uri": "https://localhost:8080/",
     "height": 1000
    },
    "id": "UZzRC0IaPdT7",
    "outputId": "b24d5aa6-aabc-4b11-aec4-2c5817b7cdc8"
   },
   "outputs": [],
   "source": [
    "fig, axs = plt.subplots(9,1, sharex=True,figsize=(50,40) )\n",
    "\n",
    "axs[6].set_title(f\"Orbit={OrbitNumber}\" + f\"-Date={DATE[0]}\" + \"-Survey mode EFD VLF Ex-A131P power spectrum [mV/Hz^0.5]-\"+ f\"time_bin_survey={time_bin_survey}\" \n",
    "             + f\"-vminTot= {min_9plots}\" + f\"-vmaxTot= {max_9plots}\"+ f\"-vminSurvey= {survey_minX}\" + f\"-vmaxSurvey= {survey_maxX}\")\n",
    "axs[7].set_title(f\"Orbit={OrbitNumber}\" + f\"-Date={DATE[0]}\" + \"-Survey mode EFD VLF Ey-A132P power spectrum [mV/Hz^0.5]-\"+ f\"time_bin_survey={time_bin_survey}\" \n",
    "             + f\"-vminTot= {min_9plots}\" + f\"-vmaxTot= {max_9plots}\"+ f\"-vminSurvey= {survey_minY}\" + f\"-vmaxSurvey= {survey_maxY}\")\n",
    "axs[8].set_title(f\"Orbit={OrbitNumber}\" + f\"-Date={DATE[0]}\" + \"-Survey mode EFD VLF Ez-A133P power spectrum [mV/Hz^0.5]-\"+ f\"time_bin_survey={time_bin_survey}\" \n",
    "             + f\"-vminTot= {min_9plots}\" + f\"-vmaxTot= {max_9plots}\"+ f\"-vminSurvey= {survey_minZ}\" + f\"-vmaxSurvey= {survey_maxZ}\")\n",
    "\n",
    "axs[3].set_title(f\"Orbit={OrbitNumber}\" + f\"-Date={DATE[0]}\" + \"-Burst mode low resolution EFD VLF Ex [mV/m]- FFT A131_W wave form \"+f\"- time_bin_burst_low={time_bin_survey}\" \n",
    "             + f\"-vminTot= {min_9plots}\" + f\"-vmaxTot= {max_9plots}\"+\n",
    "             f\"-vminBurst_low resolution= {burst_low_minX}\" + f\"-vmaxBurst_low resolution= {burst_low_maxX}\" )\n",
    "axs[4].set_title(f\"Orbit={OrbitNumber}\" + f\"-Date={DATE[0]}\" + \"-Burst mode low resolution EFD VLF Ey [mV/m]- FFT A132_W wave form \"+f\"- time_bin_burst_low={time_bin_survey}\" \n",
    "             + f\"-vminTot= {min_9plots}\" + f\"-vmaxTot= {max_9plots}\"+\n",
    "             f\"-vminBurst_low resolution= {burst_low_minY}\" + f\"-vmaxBurst_low resolution= {burst_low_maxY}\" )\n",
    "axs[5].set_title(f\"Orbit={OrbitNumber}\" + f\"-Date={DATE[0]}\" + \"-Burst mode low resolution EFD VLF Ez [mV/m]- FFT A133_W wave form \"+f\"- time_bin_burst_low={time_bin_survey}\" \n",
    "             + f\"-vminTot= {min_9plots}\" + f\"-vmaxTot= {max_9plots}\"+\n",
    "             f\"-vminBurst_low resolution= {burst_low_minZ}\" + f\"-vmaxBurst_low resolution= {burst_low_maxZ}\" )\n",
    "\n",
    "axs[0].set_title(f\"Orbit={OrbitNumber}\" + f\"-Date={DATE[0]}\" + \"-Burst mode high resolution EFD VLF Ex [mV/m]- from FFT A131W wave form\"  \n",
    "+f\"- time_bin_burst_high={time_bin_burst}\"  + f\"-vminTot= {min_9plots}\" + f\"-vmaxTot= {max_9plots}\"\n",
    "             + f\"-vminBurst_high resolution= {burst_high_minX}\" + f\"-vmaxBurst_high resolution= {burst_high_maxX}\" )\n",
    "axs[1].set_title(f\"Orbit={OrbitNumber}\" + f\"-Date={DATE[0]}\" + \"-Burst mode high resolution EFD VLF Ey [mV/m]- from FFT A132W wave form\"  \n",
    "+f\"- time_bin_burst_high={time_bin_burst}\"  + f\"-vminTot= {min_9plots}\" + f\"-vmaxTot= {max_9plots}\"\n",
    "             + f\"-vminBurst_high resolution= {burst_high_minY}\" + f\"-vmaxBurst_high resolution= {burst_high_maxY}\" )\n",
    "axs[2].set_title(f\"Orbit={OrbitNumber}\" + f\"-Date={DATE[0]}\" + \"-Burst mode high resolution EFD VLF Ez [mV/m]- from FFT A133W wave form\"  \n",
    "+f\"- time_bin_burst_high={time_bin_burst}\"  + f\"-vminTot= {min_9plots}\" + f\"-vmaxTot= {max_9plots}\"\n",
    "             + f\"-vminBurst_high resolution= {burst_high_minZ}\" + f\"-vmaxBurst_high resolution= {burst_high_maxZ}\" )\n",
    "\n",
    "x_lims = list(map( lambda x:x,vlf.vlf_signal.DateTime))\n",
    "x_lims = mdates.date2num(x_lims)\n",
    "ext=[x_lims.min(),x_lims.max(),0,1024]\n",
    "im = [0]*9\n",
    "im[0] = axs[0].imshow(np.fliplr(np.rot90(inter2X,2)),interpolation='None',cmap='jet',aspect='auto', extent=ext,vmin=min_9plots,vmax=max_9plots) \n",
    "im[1] = axs[1].imshow(np.fliplr(np.rot90(inter2Y,2)),interpolation='None',cmap='jet',aspect='auto', extent=ext,vmin=min_9plots,vmax=max_9plots) \n",
    "im[2] = axs[2].imshow(np.fliplr(np.rot90(inter2Z,2)),interpolation='None',cmap='jet',aspect='auto', extent=ext,vmin=min_9plots,vmax=max_9plots)  \n",
    "im[6] = axs[6].imshow(np.rot90(powerX),interpolation='None',cmap='jet',aspect='auto', extent=ext,vmin=min_9plots,vmax=max_9plots)\n",
    "im[7] = axs[7].imshow(np.rot90(powerY),interpolation='None',cmap='jet',aspect='auto', extent=ext,vmin=min_9plots,vmax=max_9plots)\n",
    "im[8] = axs[8].imshow(np.rot90(powerZ),interpolation='None',cmap='jet',aspect='auto', extent=ext,vmin=min_9plots,vmax=max_9plots)\n",
    "im[3] = axs[3].imshow(np.fliplr(np.rot90(outX_b,2)),interpolation='None',cmap='jet',aspect='auto', extent=ext,vmin=min_9plots,vmax=max_9plots) \n",
    "im[4] = axs[4].imshow(np.fliplr(np.rot90(outY_b,2)),interpolation='None',cmap='jet',aspect='auto', extent=ext,vmin=min_9plots,vmax=max_9plots) \n",
    "im[5] = axs[5].imshow(np.fliplr(np.rot90(outZ_b,2)),interpolation='None',cmap='jet',aspect='auto', extent=ext,vmin=min_9plots,vmax=max_9plots) \n",
    "\n",
    "\n",
    "axs[8].set_xlabel('DATE_TIME')  \n",
    "axs[0].set_ylabel('f [kHz]')\n",
    "axs[1].set_ylabel('f [kHz]')\n",
    "axs[2].set_ylabel('f [kHz]')\n",
    "axs[3].set_ylabel('f [kHz]')\n",
    "axs[4].set_ylabel('f [kHz]')\n",
    "axs[5].set_ylabel('f [kHz]')\n",
    "axs[6].set_ylabel('f [kHz]')\n",
    "axs[7].set_ylabel('f [kHz]')\n",
    "axs[8].set_ylabel('f [kHz]')\n",
    "plt.ylim(0,1024)\n",
    "\n",
    "x1=vlf.vlf_signal.iloc[12]['DateTime']\n",
    "x2=vlf.vlf_signal.iloc[189]['DateTime']\n",
    "y=np.arange(0,1025)\n",
    "axs[0].fill_betweenx(y,x1,x2,facecolor=\"white\")\n",
    "\n",
    "x1=vlf.vlf_signal.iloc[657]['DateTime']\n",
    "x2=vlf.vlf_signal.iloc[1076]['DateTime']\n",
    "y=np.arange(0,1025)\n",
    "axs[0].fill_betweenx(y,x1,x2,facecolor=\"white\")\n",
    "\n",
    "x1=vlf.vlf_signal.iloc[0]['DateTime']\n",
    "x2=vlf.vlf_signal.iloc[10]['DateTime']\n",
    "y=np.arange(0,1025)\n",
    "axs[0].fill_betweenx(y,x1,x2,facecolor=\"white\")\n",
    "\n",
    "x1=vlf.vlf_signal.iloc[12]['DateTime']\n",
    "x2=vlf.vlf_signal.iloc[189]['DateTime']\n",
    "y=np.arange(0,1025)\n",
    "axs[1].fill_betweenx(y,x1,x2,facecolor=\"white\")\n",
    "\n",
    "x1=vlf.vlf_signal.iloc[657]['DateTime']\n",
    "x2=vlf.vlf_signal.iloc[1076]['DateTime']\n",
    "y=np.arange(0,1025)\n",
    "axs[1].fill_betweenx(y,x1,x2,facecolor=\"white\")\n",
    "\n",
    "x1=vlf.vlf_signal.iloc[0]['DateTime']\n",
    "x2=vlf.vlf_signal.iloc[10]['DateTime']\n",
    "y=np.arange(0,1025)\n",
    "axs[1].fill_betweenx(y,x1,x2,facecolor=\"white\")\n",
    "\n",
    "x1=vlf.vlf_signal.iloc[12]['DateTime']\n",
    "x2=vlf.vlf_signal.iloc[189]['DateTime']\n",
    "y=np.arange(0,1025)\n",
    "axs[2].fill_betweenx(y,x1,x2,facecolor=\"white\")\n",
    "\n",
    "x1=vlf.vlf_signal.iloc[657]['DateTime']\n",
    "x2=vlf.vlf_signal.iloc[1076]['DateTime']\n",
    "y=np.arange(0,1025)\n",
    "axs[2].fill_betweenx(y,x1,x2,facecolor=\"white\")\n",
    "\n",
    "x1=vlf.vlf_signal.iloc[0]['DateTime']\n",
    "x2=vlf.vlf_signal.iloc[10]['DateTime']\n",
    "y=np.arange(0,1025)\n",
    "axs[2].fill_betweenx(y,x1,x2,facecolor=\"white\")\n",
    "\n",
    "x1=vlf.vlf_signal.iloc[12]['DateTime']\n",
    "x2=vlf.vlf_signal.iloc[189]['DateTime']\n",
    "y=np.arange(0,1025)\n",
    "axs[3].fill_betweenx(y,x1,x2,facecolor=\"white\")\n",
    "\n",
    "x1=vlf.vlf_signal.iloc[657]['DateTime']\n",
    "x2=vlf.vlf_signal.iloc[1076]['DateTime']\n",
    "y=np.arange(0,1025)\n",
    "axs[3].fill_betweenx(y,x1,x2,facecolor=\"white\")\n",
    "\n",
    "x1=vlf.vlf_signal.iloc[0]['DateTime']\n",
    "x2=vlf.vlf_signal.iloc[10]['DateTime']\n",
    "y=np.arange(0,1025)\n",
    "axs[3].fill_betweenx(y,x1,x2,facecolor=\"white\")\n",
    "\n",
    "x1=vlf.vlf_signal.iloc[12]['DateTime']\n",
    "x2=vlf.vlf_signal.iloc[189]['DateTime']\n",
    "y=np.arange(0,1025)\n",
    "axs[4].fill_betweenx(y,x1,x2,facecolor=\"white\")\n",
    "\n",
    "x1=vlf.vlf_signal.iloc[657]['DateTime']\n",
    "x2=vlf.vlf_signal.iloc[1076]['DateTime']\n",
    "y=np.arange(0,1025)\n",
    "axs[4].fill_betweenx(y,x1,x2,facecolor=\"white\")\n",
    "\n",
    "x1=vlf.vlf_signal.iloc[0]['DateTime']\n",
    "x2=vlf.vlf_signal.iloc[10]['DateTime']\n",
    "y=np.arange(0,1025)\n",
    "axs[4].fill_betweenx(y,x1,x2,facecolor=\"white\")\n",
    "\n",
    "x1=vlf.vlf_signal.iloc[12]['DateTime']\n",
    "x2=vlf.vlf_signal.iloc[189]['DateTime']\n",
    "y=np.arange(0,1025)\n",
    "axs[5].fill_betweenx(y,x1,x2,facecolor=\"white\")\n",
    "\n",
    "x1=vlf.vlf_signal.iloc[657]['DateTime']\n",
    "x2=vlf.vlf_signal.iloc[1076]['DateTime']\n",
    "y=np.arange(0,1025)\n",
    "axs[5].fill_betweenx(y,x1,x2,facecolor=\"white\")\n",
    "\n",
    "x1=vlf.vlf_signal.iloc[0]['DateTime']\n",
    "x2=vlf.vlf_signal.iloc[10]['DateTime']\n",
    "y=np.arange(0,1025)\n",
    "axs[5].fill_betweenx(y,x1,x2,facecolor=\"white\")\n",
    "\n",
    "x1=vlf.vlf_signal.iloc[12]['DateTime']\n",
    "x2=vlf.vlf_signal.iloc[189]['DateTime']\n",
    "y=np.arange(0,1025)\n",
    "axs[6].fill_betweenx(y,x1,x2,facecolor=\"white\")\n",
    "\n",
    "x1=vlf.vlf_signal.iloc[657]['DateTime']\n",
    "x2=vlf.vlf_signal.iloc[1076]['DateTime']\n",
    "y=np.arange(0,1025)\n",
    "axs[6].fill_betweenx(y,x1,x2,facecolor=\"white\")\n",
    "\n",
    "x1=vlf.vlf_signal.iloc[0]['DateTime']\n",
    "x2=vlf.vlf_signal.iloc[10]['DateTime']\n",
    "y=np.arange(0,1025)\n",
    "axs[6].fill_betweenx(y,x1,x2,facecolor=\"white\")\n",
    "\n",
    "x1=vlf.vlf_signal.iloc[12]['DateTime']\n",
    "x2=vlf.vlf_signal.iloc[189]['DateTime']\n",
    "y=np.arange(0,1025)\n",
    "axs[7].fill_betweenx(y,x1,x2,facecolor=\"white\")\n",
    "\n",
    "x1=vlf.vlf_signal.iloc[657]['DateTime']\n",
    "x2=vlf.vlf_signal.iloc[1076]['DateTime']\n",
    "y=np.arange(0,1025)\n",
    "axs[7].fill_betweenx(y,x1,x2,facecolor=\"white\")\n",
    "\n",
    "x1=vlf.vlf_signal.iloc[0]['DateTime']\n",
    "x2=vlf.vlf_signal.iloc[10]['DateTime']\n",
    "y=np.arange(0,1025)\n",
    "axs[7].fill_betweenx(y,x1,x2,facecolor=\"white\")\n",
    "\n",
    "x1=vlf.vlf_signal.iloc[12]['DateTime']\n",
    "x2=vlf.vlf_signal.iloc[189]['DateTime']\n",
    "y=np.arange(0,1025)\n",
    "axs[8].fill_betweenx(y,x1,x2,facecolor=\"white\")\n",
    "\n",
    "x1=vlf.vlf_signal.iloc[657]['DateTime']\n",
    "x2=vlf.vlf_signal.iloc[1076]['DateTime']\n",
    "y=np.arange(0,1025)\n",
    "axs[8].fill_betweenx(y,x1,x2,facecolor=\"white\")\n",
    "\n",
    "x1=vlf.vlf_signal.iloc[0]['DateTime']\n",
    "x2=vlf.vlf_signal.iloc[10]['DateTime']\n",
    "y=np.arange(0,1025)\n",
    "axs[8].fill_betweenx(y,x1,x2,facecolor=\"white\")\n",
    "\n",
    "\n",
    "divider = make_axes_locatable(axs[0])\n",
    "cax = divider.append_axes('right',size=\"1%\")\n",
    "plt.colorbar(im[0], cax=cax, orientation='vertical',label='dB')\n",
    "divider = make_axes_locatable(axs[1])\n",
    "cax = divider.append_axes('right',size=\"1%\")\n",
    "plt.colorbar(im[1], cax=cax, orientation='vertical',label='dB')\n",
    "divider = make_axes_locatable(axs[2])\n",
    "cax = divider.append_axes('right',size=\"1%\")\n",
    "plt.colorbar(im[2], cax=cax, orientation='vertical',label='dB')\n",
    "divider = make_axes_locatable(axs[3])\n",
    "cax = divider.append_axes('right',size=\"1%\")\n",
    "plt.colorbar(im[3], cax=cax, orientation='vertical',label='dB')\n",
    "divider = make_axes_locatable(axs[4])\n",
    "cax = divider.append_axes('right',size=\"1%\")\n",
    "plt.colorbar(im[4], cax=cax, orientation='vertical',label='dB')\n",
    "divider = make_axes_locatable(axs[5])\n",
    "cax = divider.append_axes('right',size=\"1%\")\n",
    "plt.colorbar(im[5], cax=cax, orientation='vertical',label='dB')\n",
    "divider = make_axes_locatable(axs[6])\n",
    "cax = divider.append_axes('right',size=\"1%\")\n",
    "plt.colorbar(im[6], cax=cax, orientation='vertical',label='dB')\n",
    "divider = make_axes_locatable(axs[7])\n",
    "cax = divider.append_axes('right',size=\"1%\")\n",
    "plt.colorbar(im[7], cax=cax, orientation='vertical',label='dB')\n",
    "divider = make_axes_locatable(axs[8])\n",
    "cax = divider.append_axes('right',size=\"1%\")\n",
    "plt.colorbar(im[8], cax=cax, orientation='vertical',label='dB')\n",
    "\n",
    "axs[8].xaxis.set_ticks_position(\"bottom\")\n",
    "axs[8].xaxis.set_label_position(\"bottom\")\n",
    "axs[8].xaxis_date()\n",
    "axs[8].xaxis.set_major_formatter(mdates.DateFormatter('%H:%M')) \n",
    "axs[8].xaxis.set_major_locator(mdates.MinuteLocator(interval=1))\n",
    "vlf.vlf_signal.plot( x='DateTime', y='Frequency', ax=axs[8], alpha=0)\n",
    "\n",
    "ax0=axs[8].twiny()\n",
    "ax1=axs[8].twiny()\n",
    "\n",
    "\n",
    "ax0.set_xlabel('GEO_LAT')\n",
    "ax0.xaxis.set_ticks_position(\"bottom\")\n",
    "ax0.xaxis.set_label_position(\"bottom\")\n",
    "ax0.spines[\"bottom\"].set_position((\"axes\", -0.3))\n",
    "ax0.xaxis.grid(False)\n",
    "ax0.set_xlim(GEO_LAT.min(), GEO_LAT.max())\n",
    "ax0.xaxis.set_major_locator(ticker.FixedLocator(np.arange(GEO_LAT.min(), GEO_LAT.max(), 5)))\n",
    "vlf.vlf_signal.plot(x='GEO_LAT', y='Frequency', ax=ax0,alpha=0)\n",
    "\n",
    "ax1.set_xlabel('MAG_LAT')\n",
    "ax1.xaxis.set_ticks_position(\"bottom\")\n",
    "ax1.xaxis.set_label_position(\"bottom\")\n",
    "ax1.spines[\"bottom\"].set_position((\"axes\", -0.6))\n",
    "ax1.xaxis.grid(False)\n",
    "ax1.set_xlim(MAG_LAT.min(), MAG_LAT.max())\n",
    "ax1.xaxis.set_major_locator(ticker.FixedLocator(np.arange(MAG_LAT.min(), MAG_LAT.max(), 0.5)))\n",
    "vlf.vlf_signal.plot( x='MAG_LAT', y='Frequency', ax=ax1, alpha=0)\n",
    "\n",
    "plt.savefig('/content/drive/MyDrive/Colab Notebooks/Plot/plot9.png',bbox_inches = 'tight')\n",
    "\n",
    "plt.show()"
   ]
  },
  {
   "cell_type": "code",
   "execution_count": null,
   "id": "Dr3dPzcfQI_u",
   "metadata": {
    "colab": {
     "base_uri": "https://localhost:8080/",
     "height": 568
    },
    "id": "Dr3dPzcfQI_u",
    "outputId": "f5808bc2-5e28-435c-bc8b-57446a3aedf7"
   },
   "outputs": [],
   "source": [
    "fig, axs = plt.subplots(6,1, sharex=True,figsize=(90,36))\n",
    "\n",
    "axs[0].set_title(f\"Orbit={OrbitNumber}\" + f\"-Date={DATE[0]}\" + \"-Survey mode EFD VLF Ex-A131P power spectrum [mV/Hz^0.5]-\"+ f\"time_bin_survey={time_bin_survey}\" \n",
    "             + f\"-vminTot= {min_9plots}\" + f\"-vmaxTot= {max_9plots}\"+ f\"-vminSurvey= {survey_minX}\" + f\"-vmaxSurvey= {survey_maxX}\")\n",
    "axs[1].set_title(f\"Orbit={OrbitNumber}\" + f\"-Date={DATE[0]}\" + \"-Survey mode EFD VLF Ey-A132P power spectrum [mV/Hz^0.5]-\"+ f\"time_bin_survey={time_bin_survey}\" \n",
    "             + f\"-vminTot= {min_9plots}\" + f\"-vmaxTot= {max_9plots}\"+ f\"-vminSurvey= {survey_minX}\" + f\"-vmaxSurvey= {survey_maxY}\")\n",
    "axs[2].set_title(f\"Orbit={OrbitNumber}\" + f\"-Date={DATE[0]}\" + \"-Survey mode EFD VLF Ez-A133P power spectrum [mV/Hz^0.5]-\"+ f\"time_bin_survey={time_bin_survey}\" \n",
    "             + f\"-vminTot= {min_9plots}\" + f\"-vmaxTot= {max_9plots}\"+ f\"-vminSurvey= {survey_minZ}\" + f\"-vmaxSurvey= {survey_maxZ}\")\n",
    "\n",
    "axs[3].set_title(f\"Orbit={OrbitNumber}\" + f\"-Date={DATE[0]}\" + \"-Burst mode low resolution EFD VLF Ex [mV/m]- FFT A131_W wave form \"+f\"- time_bin_burst_low={time_bin_survey}\" \n",
    "             + f\"-vminTot= {min_9plots}\" + f\"-vmaxTot= {max_9plots}\"+\n",
    "             f\"-vminBurst_low resolution= {burst_low_minX}\" + f\"-vmaxBurst_low resolution= {burst_low_maxX}\" )\n",
    "axs[4].set_title(f\"Orbit={OrbitNumber}\" + f\"-Date={DATE[0]}\" + \"-Burst mode low resolution EFD VLF Ey [mV/m]- FFT A132_W wave form \"+f\"- time_bin_burst_low={time_bin_survey}\" \n",
    "             + f\"-vminTot= {min_9plots}\" + f\"-vmaxTot= {max_9plots}\"+\n",
    "             f\"-vminBurst_low resolution= {burst_low_minY}\" + f\"-vmaxBurst_low resolution= {burst_low_maxY}\" )\n",
    "axs[5].set_title(f\"Orbit={OrbitNumber}\" + f\"-Date={DATE[0]}\" + \"-Burst mode low resolution EFD VLF Ez [mV/m]- FFT A133_W wave form \"+f\"- time_bin_burst_low={time_bin_survey}\" \n",
    "             + f\"-vminTot= {min_9plots}\" + f\"-vmaxTot= {max_9plots}\"+\n",
    "             f\"-vminBurst_low resolution= {burst_low_minZ}\" + f\"-vmaxBurst_low resolution= {burst_low_maxZ}\" )\n",
    "\n",
    "x_lims = list(map( lambda x:x, vlf.vlf_signal.DateTime))\n",
    "x_lims = mdates.date2num(x_lims)\n",
    "ext=[x_lims.min(),x_lims.max(),0,1024]\n",
    "im = [0]*6\n",
    "im[0] = axs[0].imshow(np.rot90(powerX),interpolation='None',cmap='jet',aspect='auto', extent=ext,vmin=min_6plots,vmax=max_6plots)\n",
    "im[1] = axs[1].imshow(np.rot90(powerY),interpolation='None',cmap='jet',aspect='auto', extent=ext,vmin=min_6plots,vmax=max_6plots)\n",
    "im[2] = axs[2].imshow(np.rot90(powerZ),interpolation='None',cmap='jet',aspect='auto', extent=ext,vmin=min_6plots,vmax=max_6plots)\n",
    "\n",
    "im[3] = axs[3].imshow(np.fliplr(np.rot90(inter2X,2)),interpolation='None',cmap='jet',aspect='auto', extent=ext,vmin=min_6plots,vmax=max_6plots) \n",
    "im[4] = axs[4].imshow(np.fliplr(np.rot90(inter2Y,2)),interpolation='None',cmap='jet',aspect='auto', extent=ext,vmin=min_6plots,vmax=max_6plots) \n",
    "im[5] = axs[5].imshow(np.fliplr(np.rot90(inter2Z,2)),interpolation='None',cmap='jet',aspect='auto', extent=ext,vmin=min_6plots,vmax=max_6plots) \n",
    "\n",
    "axs[5].set_xlabel('DATE_TIME')  \n",
    "axs[0].set_ylabel('f [kHz]')\n",
    "axs[1].set_ylabel('f [kHz]')\n",
    "axs[2].set_ylabel('f [kHz]')\n",
    "axs[3].set_ylabel('f [kHz]')\n",
    "axs[4].set_ylabel('f [kHz]')\n",
    "axs[5].set_ylabel('f [kHz]')\n",
    "plt.ylim(0,1024)\n",
    "\n",
    "x1=vlf.vlf_signal.iloc[0]['DateTime']\n",
    "x2=vlf.vlf_signal.iloc[10]['DateTime']\n",
    "x3=vlf.vlf_signal.iloc[12]['DateTime']\n",
    "x4=vlf.vlf_signal.iloc[189]['DateTime']\n",
    "x5=vlf.vlf_signal.iloc[657]['DateTime']\n",
    "x6=vlf.vlf_signal.iloc[1076]['DateTime']\n",
    "y=np.arange(0,1025)\n",
    "axs[0].fill_betweenx(y,x1,x2,facecolor=\"white\")\n",
    "\n",
    "axs[0].fill_betweenx(y,x3,x4,facecolor=\"white\")\n",
    "\n",
    "axs[0].fill_betweenx(y,x5,x6,facecolor=\"white\")\n",
    "axs[1].fill_betweenx(y,x1,x2,facecolor=\"white\")\n",
    "\n",
    "axs[1].fill_betweenx(y,x3,x4,facecolor=\"white\")\n",
    "\n",
    "axs[1].fill_betweenx(y,x5,x6,facecolor=\"white\")\n",
    "axs[2].fill_betweenx(y,x1,x2,facecolor=\"white\")\n",
    "\n",
    "axs[2].fill_betweenx(y,x3,x4,facecolor=\"white\")\n",
    "\n",
    "axs[2].fill_betweenx(y,x5,x6,facecolor=\"white\")\n",
    "axs[3].fill_betweenx(y,x1,x2,facecolor=\"white\")\n",
    "\n",
    "axs[3].fill_betweenx(y,x3,x4,facecolor=\"white\")\n",
    "\n",
    "axs[3].fill_betweenx(y,x5,x6,facecolor=\"white\")\n",
    "\n",
    "axs[4].fill_betweenx(y,x1,x2,facecolor=\"white\")\n",
    "\n",
    "\n",
    "axs[4].fill_betweenx(y,x3,x4,facecolor=\"white\")\n",
    "\n",
    "\n",
    "axs[4].fill_betweenx(y,x5,x6,facecolor=\"white\")\n",
    "\n",
    "\n",
    "axs[5].fill_betweenx(y,x1,x2,facecolor=\"white\")\n",
    "\n",
    "\n",
    "axs[5].fill_betweenx(y,x3,x4,facecolor=\"white\")\n",
    "\n",
    "\n",
    "axs[5].fill_betweenx(y,x5,x6,facecolor=\"white\")\n",
    "\n",
    "divider = make_axes_locatable(axs[0])\n",
    "cax = divider.append_axes('right',size=\"1%\")\n",
    "plt.colorbar(im[0], cax=cax, orientation='vertical',label='dB')\n",
    "divider = make_axes_locatable(axs[1])\n",
    "cax = divider.append_axes('right',size=\"1%\")\n",
    "plt.colorbar(im[1], cax=cax, orientation='vertical',label='dB')\n",
    "divider = make_axes_locatable(axs[2])\n",
    "cax = divider.append_axes('right',size=\"1%\")\n",
    "plt.colorbar(im[2], cax=cax, orientation='vertical',label='dB')\n",
    "divider = make_axes_locatable(axs[3])\n",
    "cax = divider.append_axes('right',size=\"1%\")\n",
    "plt.colorbar(im[3], cax=cax, orientation='vertical',label='dB')\n",
    "divider = make_axes_locatable(axs[4])\n",
    "cax = divider.append_axes('right',size=\"1%\")\n",
    "plt.colorbar(im[4], cax=cax, orientation='vertical',label='dB')\n",
    "divider = make_axes_locatable(axs[5])\n",
    "cax = divider.append_axes('right',size=\"1%\")\n",
    "plt.colorbar(im[5], cax=cax, orientation='vertical',label='dB')\n",
    "\n",
    "axs[5].xaxis.set_ticks_position(\"bottom\")\n",
    "axs[5].xaxis.set_label_position(\"bottom\")\n",
    "axs[5].xaxis_date()\n",
    "axs[5].xaxis.set_major_formatter(mdates.DateFormatter('%H:%M')) \n",
    "axs[5].xaxis.set_major_locator(mdates.MinuteLocator(interval=1))\n",
    "vlf.vlf_signal.plot( x='DateTime', y='Frequency', ax=axs[5], alpha=0)\n",
    "\n",
    "ax0=axs[5].twiny()\n",
    "ax1=axs[5].twiny()\n",
    "\n",
    "\n",
    "ax0.set_xlabel('GEO_LAT')\n",
    "ax0.xaxis.set_ticks_position(\"bottom\")\n",
    "ax0.xaxis.set_label_position(\"bottom\")\n",
    "ax0.spines[\"bottom\"].set_position((\"axes\", -0.3))\n",
    "ax0.xaxis.grid(False)\n",
    "ax0.set_xlim(GEO_LAT.min(), GEO_LAT.max())\n",
    "ax0.xaxis.set_major_locator(ticker.FixedLocator(np.arange(GEO_LAT.min(), GEO_LAT.max(), 5)))\n",
    "vlf.vlf_signal.plot(x='GEO_LAT', y='Frequency', ax=ax0,alpha=0)\n",
    "\n",
    "ax1.set_xlabel('MAG_LAT')\n",
    "ax1.xaxis.set_ticks_position(\"bottom\")\n",
    "ax1.xaxis.set_label_position(\"bottom\")\n",
    "ax1.spines[\"bottom\"].set_position((\"axes\", -0.6))\n",
    "ax1.xaxis.grid(False)\n",
    "ax1.set_xlim(MAG_LAT.min(), MAG_LAT.max())\n",
    "ax1.xaxis.set_major_locator(ticker.FixedLocator(np.arange(MAG_LAT.min(), MAG_LAT.max(), 0.5)))\n",
    "vlf.vlf_signal.plot( x='MAG_LAT', y='Frequency', ax=ax1, alpha=0)\n",
    "\n",
    "plt.savefig('/content/drive/MyDrive/Colab Notebooks/Plot/6plots.png',bbox_inches = 'tight')\n",
    "\n",
    "plt.show()"
   ]
  },
  {
   "cell_type": "code",
   "execution_count": null,
   "id": "bDBfloPNdndj",
   "metadata": {
    "id": "bDBfloPNdndj"
   },
   "outputs": [],
   "source": [
    "def zoom(filter, array):\n",
    "  df_1 = df_burst.query(filter)\n",
    "  df_1S_A131_W = np.array(df_1[array].tolist())\n",
    "  data2s=np.asarray([df_1S_A131_W[i]  for i in range (0,len(df_1S_A131_W)) if  isinstance(df_1S_A131_W[i], np.ndarray)])\n",
    "  data_2s = np.empty(shape=(data2s.shape[0], data2s.shape[1]))\n",
    "  for i in range (0, data2s.shape[0]):\n",
    "    meanX_b = np.mean(data2s[i]) \n",
    "    data_2s[i] = data2s[i] - meanX_b\n",
    "\n",
    "  outX_1S=data_2s.ravel().reshape(-1,2048)\n",
    "  M_b = outX_1S.shape[1]  \n",
    "  hamming_b2s = signal.get_window(\"hamming\", M_b) \n",
    "  FFT2sec=np.array([scipy.fft.fft(outX_1S[i]*hamming_b2s) for i in range(0,outX_1S.shape[0])])\n",
    "  inter1= np.abs(FFT2sec.T[:1024])**2 \n",
    "\n",
    "  return inter1,df_1"
   ]
  },
  {
   "cell_type": "code",
   "execution_count": null,
   "id": "s2ixH91XeZmY",
   "metadata": {
    "id": "s2ixH91XeZmY"
   },
   "outputs": [],
   "source": [
    "inter1X, df1X=zoom('20180807072852815 <= UTC_TIME <= 20180807072853839','X')\n",
    "inter1Y, df1Y=zoom('20180807072852815 <= UTC_TIME <= 20180807072853839','Signal')\n",
    "inter1Z, df1Z=zoom('20180807072852815 <= UTC_TIME <= 20180807072853839','Z')\n",
    "inter2X, df2X=zoom('20180807072851791 <= UTC_TIME <= 20180807072853839','X')\n",
    "inter2Y, df2Y=zoom('20180807072851791 <= UTC_TIME <= 20180807072853839','Signal')\n",
    "inter2Z, df2Z=zoom('20180807072851791 <= UTC_TIME <= 20180807072853839','Z')\n",
    "inter30X, df30X=zoom('20180807072829983 <= UTC_TIME <= 20180807072859983','X')\n",
    "inter30Y, df30Y=zoom('20180807072829983 <= UTC_TIME <= 20180807072859983','Signal')\n",
    "inter30Z, df30Z=zoom('20180807072829983 <= UTC_TIME <= 20180807072859983','Z')\n",
    "inter1mX, df1mX=zoom('20180807072800591 <= UTC_TIME <= 20180807072859983','X')\n",
    "inter1mY, df1mY=zoom('20180807072800591 <= UTC_TIME <= 20180807072859983','Signal')\n",
    "inter1mZ, df1mZ=zoom('20180807072800591 <= UTC_TIME <= 20180807072859983','Z')\n",
    "inter5mX, df5mX=zoom('20180807072005519 <= UTC_TIME <= 20180807072512687','X')\n",
    "inter5mY, df5mY=zoom('20180807072005519 <= UTC_TIME <= 20180807072512687','Signal')\n",
    "inter5mZ, df5mZ=zoom('20180807072005519 <= UTC_TIME <= 20180807072512687','Z')\n"
   ]
  },
  {
   "cell_type": "code",
   "execution_count": null,
   "id": "YfXdQXc5oVCA",
   "metadata": {
    "id": "YfXdQXc5oVCA"
   },
   "outputs": [],
   "source": [
    "def zoomInter(filter, array):\n",
    "  df_1 = df_burst.query(filter)\n",
    "  df_1S_A131_W = np.array(df_1[array].tolist())\n",
    "  data2s=np.asarray([df_1S_A131_W[i]  for i in range (0,len(df_1S_A131_W)) if  isinstance(df_1S_A131_W[i], np.ndarray)])\n",
    "  data_2s = np.empty(shape=(data2s.shape[0], data2s.shape[1]))\n",
    "  for i in range (0, data2s.shape[0]):\n",
    "    meanX_b = np.mean(data2s[i]) \n",
    "    data_2s[i] = data2s[i] - meanX_b\n",
    "\n",
    "  zero=np.zeros_like(data_2s)\n",
    "  s=np.array([[i,j]for i,j in zip(data_2s,zero)]).reshape(2*data_2s.shape[0],data_2s.shape[1])\n",
    "  outX_1S=s.ravel().reshape(-1,2048)\n",
    "\n",
    "  M_b = outX_1S.shape[1]  \n",
    "  hamming_b2s = signal.get_window(\"hamming\", M_b) \n",
    "  FFT2sec=np.array([scipy.fft.fft(outX_1S[i]*hamming_b2s) for i in range(0,outX_1S.shape[0])])\n",
    "  inter1= np.abs(FFT2sec.T[:1024])**2 \n",
    "  inter1S = 70+20*np.log10(inter1/Bw, where=0<inter1, out=np.nan*inter1)\n",
    "  return inter1S,df_1"
   ]
  },
  {
   "cell_type": "code",
   "execution_count": null,
   "id": "r1chK6q-pFXI",
   "metadata": {
    "id": "r1chK6q-pFXI"
   },
   "outputs": [],
   "source": [
    "inter1X2, df1X=zoomInter('20180807072852815 <= UTC_TIME <= 20180807072853839','X')\n",
    "inter1Y2, df1Y=zoomInter('20180807072852815 <= UTC_TIME <= 20180807072853839','Signal')\n",
    "inter1Z2, df1Z=zoomInter('20180807072852815 <= UTC_TIME <= 20180807072853839','Z')\n",
    "inter2X2, df2X=zoomInter('20180807072851791 <= UTC_TIME <= 20180807072853839','X')\n",
    "inter2Y2, df2Y=zoomInter('20180807072851791 <= UTC_TIME <= 20180807072853839','Signal')\n",
    "inter2Z2, df2Z=zoomInter('20180807072851791 <= UTC_TIME <= 20180807072853839','Z')\n",
    "inter30X2, df30X=zoomInter('20180807072829983 <= UTC_TIME <= 20180807072859983','X')\n",
    "inter30Y2, df30Y=zoomInter('20180807072829983 <= UTC_TIME <= 20180807072859983','Signal')\n",
    "inter30Z2, df30Z=zoomInter('20180807072829983 <= UTC_TIME <= 20180807072859983','Z')\n",
    "inter1mX2, df1mX=zoomInter('20180807072800591 <= UTC_TIME <= 20180807072859983','X')\n",
    "inter1mY2, df1mY=zoomInter('20180807072800591 <= UTC_TIME <= 20180807072859983','Signal')\n",
    "inter1mZ2, df1mZ=zoomInter('20180807072800591 <= UTC_TIME <= 20180807072859983','Z')\n",
    "inter5mX2, df5mX=zoomInter('20180807072005519 <= UTC_TIME <= 20180807072512687','X')\n",
    "inter5mY2, df5mY=zoomInter('20180807072005519 <= UTC_TIME <= 20180807072512687','Signal')\n",
    "inter5mZ2, df5mZ=zoomInter('20180807072005519 <= UTC_TIME <= 20180807072512687','Z')"
   ]
  },
  {
   "cell_type": "code",
   "execution_count": null,
   "id": "FXi9EyPughLh",
   "metadata": {
    "id": "FXi9EyPughLh"
   },
   "outputs": [],
   "source": [
    "def zoomPlot(array, filter,output, title):\n",
    "  fig, ax = plt.subplots()\n",
    "  x_lims = list(map( lambda x:x, filter.DateTime))\n",
    "  x_lims = mdates.date2num(x_lims)\n",
    "  ext=[x_lims.min(),x_lims.max(),0,1024] \n",
    "\n",
    "  plt.rcParams[\"figure.figsize\"] = (20,3) \n",
    "  plt.ylim(0,1024)\n",
    "  ax.set_title(OrbitNumber+\": focus on Burst mode high resolution \" +DATE[0] +title)\n",
    "  im=plt.gca().imshow(70+20*np.log10(np.fliplr(np.rot90(array,2))), interpolation='none', cmap='jet',aspect='auto',extent=ext)\n",
    "  #im=plt.gca().imshow(70*np.log10(array), interpolation='none', cmap='jet',aspect='auto')\n",
    "  plt.gca()\n",
    "\n",
    "  ax.set_ylabel('f [kHz]')\n",
    "  ax.set_xlabel('DATE_TIME')  \n",
    "\n",
    "  ax.xaxis_date()\n",
    "  ax.xaxis.set_ticks_position(\"bottom\")\n",
    "  ax.xaxis.set_label_position(\"bottom\")\n",
    "  ax.xaxis.set_major_formatter(mdates.DateFormatter('%H:%M:%S')) \n",
    "  ax.xaxis.set_major_locator(mdates.SecondLocator( interval=  5))\n",
    "  ax.set_xlim(filter.DateTime.min(),filter.DateTime.max()) \n",
    "  plt.xticks(rotation = 45)\n",
    "\n",
    "  fig.colorbar(im, ax=ax, pad=0.05)\n",
    "  plt.savefig(f'/content/drive/MyDrive/Colab Notebooks/Plot/{output}.png',bbox_inches = 'tight')\n",
    "  plt.show()"
   ]
  },
  {
   "cell_type": "code",
   "execution_count": null,
   "id": "FsWNpO0MqN09",
   "metadata": {
    "id": "FsWNpO0MqN09"
   },
   "outputs": [],
   "source": [
    "def zoomPlotInter(array, filter,output, title):\n",
    "  fig, ax = plt.subplots()\n",
    "  x_lims = list(map( lambda x:x, filter.DateTime))\n",
    "  x_lims = mdates.date2num(x_lims)\n",
    "  ext=[x_lims.min(),x_lims.max(),0,1024] \n",
    "\n",
    "  plt.rcParams[\"figure.figsize\"] = (20,3) \n",
    "  plt.ylim(0,1024)\n",
    "  ax.set_title(OrbitNumber+\": focus on Burst mode high resolution \" +DATE[0] +title)\n",
    "  im=plt.gca().imshow(np.fliplr(np.rot90(array,2)), interpolation='none', cmap='jet',aspect='auto',extent=ext)\n",
    "  #im=plt.gca().imshow(array, interpolation='none', cmap='jet',aspect='auto')\n",
    "  plt.gca()\n",
    "\n",
    "  ax.set_ylabel('f [kHz]')\n",
    "  ax.set_xlabel('DATE_TIME')  \n",
    "\n",
    "  ax.xaxis_date()\n",
    "  ax.xaxis.set_ticks_position(\"bottom\")\n",
    "  ax.xaxis.set_label_position(\"bottom\")\n",
    "  ax.xaxis.set_major_formatter(mdates.DateFormatter('%H:%M:%S')) \n",
    "  ax.xaxis.set_major_locator(mdates.SecondLocator( interval=  5))\n",
    "  ax.set_xlim(filter.DateTime.min(),filter.DateTime.max()) \n",
    "  plt.xticks(rotation = 45)\n",
    "\n",
    "  fig.colorbar(im, ax=ax, pad=0.05)\n",
    "  plt.savefig(f'/content/drive/MyDrive/Colab Notebooks/Plot/{output}.png',bbox_inches = 'tight')\n",
    "  plt.show()"
   ]
  },
  {
   "cell_type": "code",
   "execution_count": null,
   "id": "qRv9SwU8pzbc",
   "metadata": {
    "colab": {
     "base_uri": "https://localhost:8080/",
     "height": 225
    },
    "id": "qRv9SwU8pzbc",
    "outputId": "ebb00178-9714-495e-f984-710d1872e47c"
   },
   "outputs": [],
   "source": [
    "zoomPlot(inter1X,df1X,'1secXinter',\"-EFDX-1second-7.28.52815-7.28.53839 \")"
   ]
  },
  {
   "cell_type": "code",
   "execution_count": null,
   "id": "NZ5t0nrXqgt8",
   "metadata": {
    "colab": {
     "base_uri": "https://localhost:8080/",
     "height": 225
    },
    "id": "NZ5t0nrXqgt8",
    "outputId": "b4fbe069-a419-4e0c-8181-7800e57e73d6"
   },
   "outputs": [],
   "source": [
    "zoomPlot(inter1Y,df1Y,'1secYinter',\"-EFDY-1second-7.28.52815-7.28.53839 \")"
   ]
  },
  {
   "cell_type": "code",
   "execution_count": null,
   "id": "bzzpO8Xur7GR",
   "metadata": {
    "colab": {
     "base_uri": "https://localhost:8080/",
     "height": 225
    },
    "id": "bzzpO8Xur7GR",
    "outputId": "bd798e8d-31b9-4f7b-f248-e2c6d8fe049d"
   },
   "outputs": [],
   "source": [
    "zoomPlot(inter1Z,df1Z,'1secZinter',\"-EFDZ-1second-7.28.52815-7.28.53839 \")"
   ]
  },
  {
   "cell_type": "code",
   "execution_count": null,
   "id": "aIse7yuBsBWc",
   "metadata": {
    "colab": {
     "base_uri": "https://localhost:8080/",
     "height": 270
    },
    "id": "aIse7yuBsBWc",
    "outputId": "6c170092-d077-4466-d9b6-826365f082f0"
   },
   "outputs": [],
   "source": [
    "zoomPlotInter(inter2X2,df2X,'2secXiter',\"-EFDX-2seconds-7.28.51791-7.28.53839 \")"
   ]
  },
  {
   "cell_type": "code",
   "execution_count": null,
   "id": "MTEzRLjysi_k",
   "metadata": {
    "colab": {
     "base_uri": "https://localhost:8080/",
     "height": 270
    },
    "id": "MTEzRLjysi_k",
    "outputId": "f1a10403-83a9-4068-f914-4480652e891c"
   },
   "outputs": [],
   "source": [
    "zoomPlotInter(inter2Y2,df2Y,'2secYiter',\"-EFDY-2seconds-7.28.51791-7.28.53839 \")"
   ]
  },
  {
   "cell_type": "code",
   "execution_count": null,
   "id": "zr85Whsesedd",
   "metadata": {
    "colab": {
     "base_uri": "https://localhost:8080/",
     "height": 270
    },
    "id": "zr85Whsesedd",
    "outputId": "978a9814-f6f4-4a00-9d7d-35382e376aa1"
   },
   "outputs": [],
   "source": [
    "zoomPlotInter(inter2Z2,df2Z,'2secZiter',\"-EFDZ-2seconds-7.28.51791-7.28.53839 \")"
   ]
  },
  {
   "cell_type": "code",
   "execution_count": null,
   "id": "tSHgMinIsrfQ",
   "metadata": {
    "colab": {
     "base_uri": "https://localhost:8080/",
     "height": 225
    },
    "id": "tSHgMinIsrfQ",
    "outputId": "c6b73eb0-fc34-436d-f8fe-a7fd08271f4f"
   },
   "outputs": [],
   "source": [
    "zoomPlotInter(inter30X2,df30X,'30secXinter',\"-EFDX-30seconds-7.2829983-7.2859983 \")"
   ]
  },
  {
   "cell_type": "code",
   "execution_count": null,
   "id": "Jm8KyqmOs0LP",
   "metadata": {
    "colab": {
     "base_uri": "https://localhost:8080/",
     "height": 225
    },
    "id": "Jm8KyqmOs0LP",
    "outputId": "05537d7d-6be2-4fb7-f426-5c1ebce6163c"
   },
   "outputs": [],
   "source": [
    "zoomPlotInter(inter30Y2,df30Y,'30secYinter',\"-EFDY-30seconds-7.2829983-7.2859983 \")"
   ]
  },
  {
   "cell_type": "code",
   "execution_count": null,
   "id": "xVJlEE4Ks80d",
   "metadata": {
    "colab": {
     "base_uri": "https://localhost:8080/",
     "height": 225
    },
    "id": "xVJlEE4Ks80d",
    "outputId": "be997d1b-ccee-48b9-99ac-0bc0b2c23e60"
   },
   "outputs": [],
   "source": [
    "zoomPlotInter(inter30Z2,df30Z,'30secZinter',\"-EFDZ-30seconds-7.2829983-7.2859983 \")"
   ]
  },
  {
   "cell_type": "code",
   "execution_count": null,
   "id": "av9b43xatDsM",
   "metadata": {
    "colab": {
     "base_uri": "https://localhost:8080/",
     "height": 270
    },
    "id": "av9b43xatDsM",
    "outputId": "673fb8c7-44ce-46cd-c2d3-5c5c34161e76"
   },
   "outputs": [],
   "source": [
    "zoomPlotInter(inter1mX2,df1mX,'1minXinter',\"-EFDX-1minute-7.2800591-7.2859983 \")"
   ]
  },
  {
   "cell_type": "code",
   "execution_count": null,
   "id": "d_Ytva-mtLvA",
   "metadata": {
    "colab": {
     "base_uri": "https://localhost:8080/",
     "height": 270
    },
    "id": "d_Ytva-mtLvA",
    "outputId": "c0212507-f5c1-4a38-bb6b-4e4c1e319587"
   },
   "outputs": [],
   "source": [
    "zoomPlotInter(inter1mY2,df1mY,'1minYinter',\"-EFDY-1minute-7.2800591-7.2859983 \")"
   ]
  },
  {
   "cell_type": "code",
   "execution_count": null,
   "id": "8Wj_NWN6tQ5R",
   "metadata": {
    "colab": {
     "base_uri": "https://localhost:8080/",
     "height": 270
    },
    "id": "8Wj_NWN6tQ5R",
    "outputId": "e3e8030e-3fb9-4882-ef28-f8b653090005"
   },
   "outputs": [],
   "source": [
    "zoomPlotInter(inter1mZ2,df1mZ,'1minZinter',\"-EFDZ-1minute-7.2800591-7.2859983 \")"
   ]
  },
  {
   "cell_type": "code",
   "execution_count": null,
   "id": "Gbr6P0fCtZXF",
   "metadata": {
    "colab": {
     "base_uri": "https://localhost:8080/",
     "height": 270
    },
    "id": "Gbr6P0fCtZXF",
    "outputId": "667b2a13-25f3-4c6b-e442-f65bc23d5dea"
   },
   "outputs": [],
   "source": [
    "zoomPlotInter(inter5mX2,df5mX,'5minXinter',\"-EFDX-5minutes-7.2005519-7.2512687 \")"
   ]
  },
  {
   "cell_type": "code",
   "execution_count": null,
   "id": "C4FTlgkOthYF",
   "metadata": {
    "colab": {
     "base_uri": "https://localhost:8080/",
     "height": 270
    },
    "id": "C4FTlgkOthYF",
    "outputId": "4867e920-1872-4af3-93d5-339aba1bc64b"
   },
   "outputs": [],
   "source": [
    "zoomPlotInter(inter5mY2,df5mY,'5minYinter',\"-EFDy-5minutes-7.2005519-7.2512687 \")"
   ]
  },
  {
   "cell_type": "code",
   "execution_count": null,
   "id": "odhZrTiRtsJ5",
   "metadata": {
    "colab": {
     "base_uri": "https://localhost:8080/",
     "height": 270
    },
    "id": "odhZrTiRtsJ5",
    "outputId": "041281a3-7070-4e03-ea90-ee4592af37d4"
   },
   "outputs": [],
   "source": [
    "zoomPlotInter(inter5mZ2,df5mZ,'5minZinter',\"-EFDZ-5minutes-7.2005519-7.2512687 \")"
   ]
  },
  {
   "cell_type": "code",
   "execution_count": null,
   "id": "ZVqPO8AthYEQ",
   "metadata": {
    "colab": {
     "base_uri": "https://localhost:8080/",
     "height": 225
    },
    "id": "ZVqPO8AthYEQ",
    "outputId": "1e54a41e-7317-40c1-de27-ab0edcbb2340"
   },
   "outputs": [],
   "source": [
    "zoomPlot(inter1X,df1X,'1secX',\"-EFDX-1second-7.28.52815-7.28.53839 \")"
   ]
  },
  {
   "cell_type": "code",
   "execution_count": null,
   "id": "P3zLGEcinTT-",
   "metadata": {
    "colab": {
     "base_uri": "https://localhost:8080/",
     "height": 225
    },
    "id": "P3zLGEcinTT-",
    "outputId": "1becee34-831c-414e-a04b-f0c53bb3c3bc"
   },
   "outputs": [],
   "source": [
    "zoomPlot(inter1Y,df1Y,'1secY',\"-EFDY-1second-7.28.52815-7.28.53839 \")"
   ]
  },
  {
   "cell_type": "code",
   "execution_count": null,
   "id": "ex61iGeYnYxR",
   "metadata": {
    "colab": {
     "base_uri": "https://localhost:8080/",
     "height": 225
    },
    "id": "ex61iGeYnYxR",
    "outputId": "f60b537a-4c06-48b6-da65-4edc2bca8b34"
   },
   "outputs": [],
   "source": [
    "zoomPlot(inter1Z,df1Z,'1secZ',\"-EFDZ-1second-7.28.52815-7.28.53839 \")"
   ]
  },
  {
   "cell_type": "code",
   "execution_count": null,
   "id": "WSq3hLQVjHZx",
   "metadata": {
    "colab": {
     "base_uri": "https://localhost:8080/",
     "height": 270
    },
    "id": "WSq3hLQVjHZx",
    "outputId": "f1164459-7ec9-4d67-b0ab-370d0c226ba2"
   },
   "outputs": [],
   "source": [
    "zoomPlot(inter2X,df2X,'2secX',\"-EFDX-2seconds-7.28.51791-7.28.53839 \")"
   ]
  },
  {
   "cell_type": "code",
   "execution_count": null,
   "id": "VjrJtdnGlZIS",
   "metadata": {
    "colab": {
     "base_uri": "https://localhost:8080/",
     "height": 270
    },
    "id": "VjrJtdnGlZIS",
    "outputId": "00406919-f48a-4569-86d8-7688f3131f17"
   },
   "outputs": [],
   "source": [
    "zoomPlot(inter2Y,df2Y,'2secY',\"-EFDY-2seconds-7.28.51791-7.28.53839 \")"
   ]
  },
  {
   "cell_type": "code",
   "execution_count": null,
   "id": "irg7HqOHlfj9",
   "metadata": {
    "colab": {
     "base_uri": "https://localhost:8080/",
     "height": 270
    },
    "id": "irg7HqOHlfj9",
    "outputId": "6799e558-9854-4890-90ae-219f739644d0"
   },
   "outputs": [],
   "source": [
    "zoomPlot(inter2Z,df2Z,'2secZ',\"-EFDZ-2seconds-7.28.51791-7.28.53839 \")"
   ]
  },
  {
   "cell_type": "code",
   "execution_count": null,
   "id": "lfrCzSljjUHR",
   "metadata": {
    "colab": {
     "base_uri": "https://localhost:8080/",
     "height": 270
    },
    "id": "lfrCzSljjUHR",
    "outputId": "b98c95b8-cf18-42b5-d0e7-d44ebc56c186"
   },
   "outputs": [],
   "source": [
    "zoomPlot(inter30X,df30X,'30secX',\"-EFDX-30seconds-7.2829983-7.2859983 \")"
   ]
  },
  {
   "cell_type": "code",
   "execution_count": null,
   "id": "Z25XirLnlHvU",
   "metadata": {
    "colab": {
     "base_uri": "https://localhost:8080/",
     "height": 270
    },
    "id": "Z25XirLnlHvU",
    "outputId": "1fc5ed34-b13a-4909-e39f-fa0b34867bd2"
   },
   "outputs": [],
   "source": [
    "zoomPlot(inter30Y,df30Y,'30secY',\"-EFDY-30seconds-7.2829983-7.2859983 \")"
   ]
  },
  {
   "cell_type": "code",
   "execution_count": null,
   "id": "J2i5uJyplM0C",
   "metadata": {
    "colab": {
     "base_uri": "https://localhost:8080/",
     "height": 270
    },
    "id": "J2i5uJyplM0C",
    "outputId": "e6474ae6-5495-4c4f-a135-ab4123e3bc39"
   },
   "outputs": [],
   "source": [
    "zoomPlot(inter30Z,df30Z,'30secZ',\"-EFDZ-30seconds-7.2829983-7.2859983 \")"
   ]
  },
  {
   "cell_type": "code",
   "execution_count": null,
   "id": "fz4TO4xDjcJH",
   "metadata": {
    "colab": {
     "base_uri": "https://localhost:8080/",
     "height": 270
    },
    "id": "fz4TO4xDjcJH",
    "outputId": "4c2fe5ae-217b-4fef-a236-b5741c1b031a"
   },
   "outputs": [],
   "source": [
    "zoomPlot(inter1mX,df1mX,'1minX',\"-EFDX-1minute-7.2800591-7.2859983 \")"
   ]
  },
  {
   "cell_type": "code",
   "execution_count": null,
   "id": "o7NnV2gXkxVJ",
   "metadata": {
    "colab": {
     "base_uri": "https://localhost:8080/",
     "height": 270
    },
    "id": "o7NnV2gXkxVJ",
    "outputId": "bd699842-7ad2-4333-ca80-a28cacfce47b"
   },
   "outputs": [],
   "source": [
    "zoomPlot(inter1mY,df1mY,'1minY',\"-EFDY-1minute-7.2800591-7.2859983 \")"
   ]
  },
  {
   "cell_type": "code",
   "execution_count": null,
   "id": "WoCYuufok5CL",
   "metadata": {
    "colab": {
     "base_uri": "https://localhost:8080/",
     "height": 270
    },
    "id": "WoCYuufok5CL",
    "outputId": "d9d3f648-36a5-44b3-feca-6585e8ee40b0"
   },
   "outputs": [],
   "source": [
    "zoomPlot(inter1mZ,df1mZ,'1minZ',\"-EFDZ-1minute-7.2800591-7.2859983 \")"
   ]
  },
  {
   "cell_type": "code",
   "execution_count": null,
   "id": "1981TOuyjp6C",
   "metadata": {
    "colab": {
     "base_uri": "https://localhost:8080/",
     "height": 270
    },
    "id": "1981TOuyjp6C",
    "outputId": "928a6bbb-a132-4ba1-ce7b-0fcd63ed8424"
   },
   "outputs": [],
   "source": [
    "zoomPlot(inter5mX,df5mX,'5minX',\"-EFDX-5minutes-7.2005519-7.2512687 \")"
   ]
  },
  {
   "cell_type": "code",
   "execution_count": null,
   "id": "_lv8KScWkY_Z",
   "metadata": {
    "colab": {
     "base_uri": "https://localhost:8080/",
     "height": 270
    },
    "id": "_lv8KScWkY_Z",
    "outputId": "3b80d831-684e-405f-930f-f630bab01461"
   },
   "outputs": [],
   "source": [
    "zoomPlot(inter5mY,df5mY,'5minY',\"-EFDY-5minutes-7.2005519-7.2512687 \")"
   ]
  },
  {
   "cell_type": "code",
   "execution_count": null,
   "id": "82JW4MKJkdcF",
   "metadata": {
    "colab": {
     "base_uri": "https://localhost:8080/",
     "height": 270
    },
    "id": "82JW4MKJkdcF",
    "outputId": "54d31367-c1e5-4a71-a2da-f8140abf7769"
   },
   "outputs": [],
   "source": [
    "zoomPlot(inter5mZ,df5mZ,'5minZ',\"-EFDZ-5minutes-7.2005519-7.2512687 \")"
   ]
  }
 ],
 "metadata": {
  "colab": {
   "collapsed_sections": [],
   "name": "Geophysics data colab.ipynb",
   "provenance": []
  },
  "kernelspec": {
   "display_name": "Python 3 (ipykernel)",
   "language": "python",
   "name": "python3"
  },
  "language_info": {
   "codemirror_mode": {
    "name": "ipython",
    "version": 3
   },
   "file_extension": ".py",
   "mimetype": "text/x-python",
   "name": "python",
   "nbconvert_exporter": "python",
   "pygments_lexer": "ipython3",
   "version": "3.9.7"
  }
 },
 "nbformat": 4,
 "nbformat_minor": 5
}
